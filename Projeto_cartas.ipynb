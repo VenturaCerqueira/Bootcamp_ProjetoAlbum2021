{
  "nbformat": 4,
  "nbformat_minor": 0,
  "metadata": {
    "colab": {
      "name": "Projeto-cartas.ipynb",
      "provenance": [],
      "collapsed_sections": [],
      "authorship_tag": "ABX9TyPEosgR3cAIf7WQgDBgltmb",
      "include_colab_link": true
    },
    "kernelspec": {
      "name": "python3",
      "display_name": "Python 3"
    },
    "language_info": {
      "name": "python"
    }
  },
  "cells": [
    {
      "cell_type": "markdown",
      "metadata": {
        "id": "view-in-github",
        "colab_type": "text"
      },
      "source": [
        "<a href=\"https://colab.research.google.com/github/VenturaCerqueira/Bootcamp_ProjetoAlbum2021/blob/main/Projeto_cartas.ipynb\" target=\"_parent\"><img src=\"https://colab.research.google.com/assets/colab-badge.svg\" alt=\"Open In Colab\"/></a>"
      ]
    },
    {
      "cell_type": "markdown",
      "metadata": {
        "id": "wwmCSZYEXS7b"
      },
      "source": [
        "#Projeto: Álbum 2021\n",
        "*   Total de cromos: **212**\n",
        "\n",
        "*   preço do livro illustrado capa brochura:**R$ 10,00**\n",
        "\n",
        "*   Envelope com 4 cromos: **R$ 4.00**\n",
        "\n",
        "##Suposições:\n",
        "\n",
        "1.   Todas as figurinhas tem igual probabilidade de serem sorteadas\n",
        "2.   Um Pacote é comprado por vez até que se complete álbum\n",
        "\n",
        "###Algoritmo\n",
        "1. Compra um pacotinho de figurinha(4figurinhas cada, que podem se repetir)\n",
        "2. Colar no álbum e verificar se o álbum está completo\n",
        "3. Caso esteja incopleto, compra mais um pacote, caso contrario, fim.\n",
        "\n",
        "####Perguntas\n",
        "#####Lista:\n",
        "1. Qual o valor médio investido para completar o álbum nessas condições?\n",
        "2. Quantos pacotes são necessários comprar, em média, para completar o álbum?\n",
        "3. Qual é a distribuição empírica do valor investido para completar o álbum?\n",
        "4. Qual a probabilidade de se gastar menos que R\\$1500,00 para completar o álbum?\n",
        "5. Qual a probabilidade de se gastar mais do que a média para completar o álbum?\n",
        "6. Qual é um intervalo de confiança de 95% para o gasto ao se completar o álbum?\n",
        "7. Qual o valor médio gasto caso se esteja completando o álbum com mais um amigo?\n",
        "8. Qual o valor médio gasto caso se esteja completando o álbum com mais dois amigos?\n",
        "\n",
        "\n",
        "\n"
      ]
    },
    {
      "cell_type": "code",
      "metadata": {
        "id": "N6o_E-XWXUAO"
      },
      "source": [
        "#Atribui valores\n",
        "n_album = 212\n",
        "preco_pacote = 4\n",
        "cromos_por_pacote = 4\n",
        "preco_album = 10 \n",
        "simulacoes = 1000"
      ],
      "execution_count": null,
      "outputs": []
    },
    {
      "cell_type": "markdown",
      "metadata": {
        "id": "7c-3gvfA1NrT"
      },
      "source": [
        "###Import Numpy"
      ]
    },
    {
      "cell_type": "code",
      "metadata": {
        "id": "uGzmsgQNcY74"
      },
      "source": [
        "import numpy as np\n",
        "\n",
        "album = np.zeros(n_album)# representação do álbum \n",
        "\n",
        "pacotinho = np.random.choice(range(n_album), cromos_por_pacote)# representação do pacote de figurinhas\n",
        "\n",
        "for i in pacotinho:# 'colando' as figurinhas obtidas no álbum\n",
        "    album[i] += 1"
      ],
      "execution_count": null,
      "outputs": []
    },
    {
      "cell_type": "code",
      "metadata": {
        "colab": {
          "base_uri": "https://localhost:8080/"
        },
        "id": "vNbl2ZwrdU9B",
        "outputId": "dd3a0a12-0c7b-4a8c-e2a8-7639b642f547"
      },
      "source": [
        "# comprando figurinhas até completar o álbum\n",
        "def SimulaAlbum():\n",
        "    album = np.zeros(n_album) \n",
        "    pacotes = 0                 #Zera Pacote\n",
        "    while not np.all(album >= 1):\n",
        "        pacotinho = np.random.choice(range(n_album), 4)\n",
        "        pacotes += 1\n",
        "\n",
        "        for i in pacotinho:\n",
        "            album[i] += 1\n",
        " \n",
        "    valor_gasto = preco_album + preco_pacote * pacotes \n",
        "\n",
        "    return valor_gasto, pacotes\n",
        "\n",
        "SimulaAlbum()"
      ],
      "execution_count": null,
      "outputs": [
        {
          "output_type": "execute_result",
          "data": {
            "text/plain": [
              "(1334, 331)"
            ]
          },
          "metadata": {
            "tags": []
          },
          "execution_count": 7
        }
      ]
    },
    {
      "cell_type": "code",
      "metadata": {
        "colab": {
          "base_uri": "https://localhost:8080/"
        },
        "id": "Ygi1B253ed-w",
        "outputId": "73d803f7-19b2-4560-9e2d-0365932520d0"
      },
      "source": [
        "def Simulacao(simulacoes = 1000, silencio = False):\n",
        "    valores = []\n",
        "    for i in range(simulacoes):\n",
        "        valores.append(SimulaAlbum()[0])\n",
        "        if not silencio:\n",
        "            if (i+1) % 100 == 0:\n",
        "                print('Simulação: ', i+1, '/', simulacoes)\n",
        "    return valores\n",
        "\n",
        "sim = Simulacao(simulacoes)"
      ],
      "execution_count": null,
      "outputs": [
        {
          "output_type": "stream",
          "text": [
            "Simulação:  100 / 1000\n",
            "Simulação:  200 / 1000\n",
            "Simulação:  300 / 1000\n",
            "Simulação:  400 / 1000\n",
            "Simulação:  500 / 1000\n",
            "Simulação:  600 / 1000\n",
            "Simulação:  700 / 1000\n",
            "Simulação:  800 / 1000\n",
            "Simulação:  900 / 1000\n",
            "Simulação:  1000 / 1000\n"
          ],
          "name": "stdout"
        }
      ]
    },
    {
      "cell_type": "code",
      "metadata": {
        "colab": {
          "base_uri": "https://localhost:8080/"
        },
        "id": "qnj8ZqRSyWsU",
        "outputId": "4c5b1ef5-9b4c-4abc-8545-2a303374226e"
      },
      "source": [
        "#questões 1 e 2\n",
        "print('O valor médio gasto foi:', round(np.mean(sim), 2))\n",
        "print('O numero de pacotes médio foi:', round((np.mean(sim) - preco_album)/preco_pacote, 2))"
      ],
      "execution_count": null,
      "outputs": [
        {
          "output_type": "stream",
          "text": [
            "O valor médio gasto foi: 1270.58\n",
            "O numero de pacotes médio foi: 315.14\n"
          ],
          "name": "stdout"
        }
      ]
    },
    {
      "cell_type": "markdown",
      "metadata": {
        "id": "fDHaVgDr2EYr"
      },
      "source": [
        "###Importa Matplotlib.pyplot"
      ]
    },
    {
      "cell_type": "code",
      "metadata": {
        "colab": {
          "base_uri": "https://localhost:8080/",
          "height": 283
        },
        "id": "AzWQLbgSyba_",
        "outputId": "2a0687d0-5337-45db-bf94-d6b7e44ab433"
      },
      "source": [
        "#questão 3\n",
        "import matplotlib.pyplot as plt\n",
        "plt.hist(sim, bins = 20, density = True, color = 'red', edgecolor = 'white')#gera grafico, possivel altera cores...\n",
        "plt.title('Distribuição Empírica do Valor Gasto para Completar o Álbum')#texto acima do grafico o titulo\n",
        "plt.show()"
      ],
      "execution_count": null,
      "outputs": [
        {
          "output_type": "display_data",
          "data": {
            "image/png": "[encoded data removed]",
            "text/plain": [
              "<Figure size 432x288 with 1 Axes>"
            ]
          },
          "metadata": {
            "tags": [],
            "needs_background": "light"
          }
        }
      ]
    },
    {
      "cell_type": "code",
      "metadata": {
        "colab": {
          "base_uri": "https://localhost:8080/"
        },
        "id": "YLLAELks0z8D",
        "outputId": "dfe423ac-b0ee-4eda-f869-70b2478218b5"
      },
      "source": [
        "# questoes 4 e 5\n",
        "prob1 = sum(np.array(sim) < 1500)/simulacoes\n",
        "prob2 = sum(np.array(sim) > np.array(sim).mean())/simulacoes\n",
        " \n",
        "print('A probabilidade de se gastar menos de 1500 é {:.2f}%'.format(prob1*100))\n",
        "print('A probabilidade de se gastar mais do que a média é {:.2f}%'.format(prob2*100))\n"
      ],
      "execution_count": null,
      "outputs": [
        {
          "output_type": "stream",
          "text": [
            "A probabilidade de se gastar menos de 1500 é 83.30%\n",
            "A probabilidade de se gastar mais do que a média é 42.60%\n"
          ],
          "name": "stdout"
        }
      ]
    },
    {
      "cell_type": "code",
      "metadata": {
        "colab": {
          "base_uri": "https://localhost:8080/"
        },
        "id": "swMUMQfl00gp",
        "outputId": "f6d8f2e6-09c9-4044-aee6-950a9349c9b4"
      },
      "source": [
        "# questao 6\n",
        "qts = np.quantile(sim, [0.025, 0.975])\n",
        "print('O intervalo de confiança de 95% para o gasto total é ({:.2f}, {:.2f})'.format(qts[0], qts[1]))"
      ],
      "execution_count": null,
      "outputs": [
        {
          "output_type": "stream",
          "text": [
            "O intervalo de confiança de 95% para o gasto total é (886.00, 1918.00)\n"
          ],
          "name": "stdout"
        }
      ]
    },
    {
      "cell_type": "code",
      "metadata": {
        "id": "gfm7o4PJTKER"
      },
      "source": [
        "\n"
      ],
      "execution_count": null,
      "outputs": []
    },
    {
      "cell_type": "code",
      "metadata": {
        "colab": {
          "base_uri": "https://localhost:8080/"
        },
        "id": "VtnfbLdzUj7P",
        "outputId": "7ee6d7a8-3103-4959-ce6c-93e47c323f8d"
      },
      "source": [
        "# comprando figurinhas até completar o álbum\n",
        "def SimulaAlbum(qtde_albuns = 1):\n",
        "    album = np.zeros(n_album) \n",
        "    pacotes = 0\n",
        "    while not np.all(album >= qtde_albuns):\n",
        "        pacotinho = np.random.choice(range(n_album), 4)\n",
        "        pacotes += 1\n",
        "\n",
        "        for i in pacotinho:\n",
        "            album[i] += 1\n",
        " \n",
        "\n",
        "    valor_gasto = qtde_albuns*preco_album + preco_pacote * pacotes \n",
        "    valor_gasto_por_album = valor_gasto/qtde_albuns\n",
        "\n",
        "    return valor_gasto, pacotes, valor_gasto_por_album\n",
        "\n",
        "SimulaAlbum(2)"
      ],
      "execution_count": null,
      "outputs": [
        {
          "output_type": "execute_result",
          "data": {
            "text/plain": [
              "(1660, 410, 830.0)"
            ]
          },
          "metadata": {
            "tags": []
          },
          "execution_count": 34
        }
      ]
    },
    {
      "cell_type": "code",
      "metadata": {
        "colab": {
          "base_uri": "https://localhost:8080/"
        },
        "id": "_5E2Nw7pUmyX",
        "outputId": "80846a9d-71f9-4cf7-af83-0508dee7307f"
      },
      "source": [
        "def Simulacao(qtde_albuns, simulacoes = 1000, silencio = False):\n",
        "    valores = []\n",
        "    for i in range(simulacoes):\n",
        "        valores.append(SimulaAlbum(qtde_albuns)[2])\n",
        "        if not silencio:\n",
        "            if (i+1) % 100 == 0:\n",
        "                print('Simulação: ', i+1, '/', simulacoes)\n",
        "    return valores\n",
        "\n",
        "sim = Simulacao(qtde_albuns = 2, simulacoes = 100)"
      ],
      "execution_count": null,
      "outputs": [
        {
          "output_type": "stream",
          "text": [
            "Simulação:  100 / 100\n"
          ],
          "name": "stdout"
        }
      ]
    },
    {
      "cell_type": "markdown",
      "metadata": {
        "id": "3bMcpgR9Uo2B"
      },
      "source": [
        "# Questões 7 e 8"
      ]
    },
    {
      "cell_type": "code",
      "metadata": {
        "colab": {
          "base_uri": "https://localhost:8080/"
        },
        "id": "yACamsx4UpXA",
        "outputId": "8efdbd6f-0c3d-42ab-c912-b348ffd25eb2"
      },
      "source": [
        "\n",
        "sim2 = Simulacao(2, 100, silencio = True) \n",
        "c2 = np.array(sim2).mean() \n",
        "\n",
        "sim3 = Simulacao(3, 100, silencio = True) \n",
        "c3 = np.array(sim3).mean()  \n",
        "\n",
        "print('Custo médio entre 2 amigos:', round(c2, 2) )\n",
        "print('Custo médio entre 3 amigos:', round(c3, 2) )"
      ],
      "execution_count": null,
      "outputs": [
        {
          "output_type": "stream",
          "text": [
            "Custo médio entre 2 amigos: 864.92\n",
            "Custo médio entre 3 amigos: 726.08\n"
          ],
          "name": "stdout"
        }
      ]
    },
    {
      "cell_type": "code",
      "metadata": {
        "colab": {
          "base_uri": "https://localhost:8080/"
        },
        "id": "hBQ91N3zUqGH",
        "outputId": "8dce491a-882a-4879-c40c-f66f039684f9"
      },
      "source": [
        "import time\n",
        "def SimulacaoAmigos(amigos = 40, simulacoes = 10):\n",
        "    medias = []\n",
        "    amigos = list(range(1, amigos + 1, 1))\n",
        "    for i in amigos: \n",
        "        t = time.time()\n",
        "        aux = Simulacao(i, simulacoes, silencio = True)\n",
        "        tempo = round(time.time() - t, 2)\n",
        "        print('Tempo total de {}s para a simulação com {} amigo(s)'.format(tempo, i))\n",
        "        medias.append(np.array(aux).mean())\n",
        "    return amigos, medias\n",
        "\n",
        "sim_amigos = SimulacaoAmigos(amigos = 100, simulacoes = 5)"
      ],
      "execution_count": null,
      "outputs": [
        {
          "output_type": "stream",
          "text": [
            "Tempo total de 0.17s para a simulação com 1 amigo(s)\n",
            "Tempo total de 0.22s para a simulação com 2 amigo(s)\n",
            "Tempo total de 0.28s para a simulação com 3 amigo(s)\n",
            "Tempo total de 0.29s para a simulação com 4 amigo(s)\n",
            "Tempo total de 0.33s para a simulação com 5 amigo(s)\n",
            "Tempo total de 0.28s para a simulação com 6 amigo(s)\n",
            "Tempo total de 0.51s para a simulação com 7 amigo(s)\n",
            "Tempo total de 0.5s para a simulação com 8 amigo(s)\n",
            "Tempo total de 0.45s para a simulação com 9 amigo(s)\n",
            "Tempo total de 0.62s para a simulação com 10 amigo(s)\n",
            "Tempo total de 0.57s para a simulação com 11 amigo(s)\n",
            "Tempo total de 0.52s para a simulação com 12 amigo(s)\n",
            "Tempo total de 0.73s para a simulação com 13 amigo(s)\n",
            "Tempo total de 0.68s para a simulação com 14 amigo(s)\n",
            "Tempo total de 0.67s para a simulação com 15 amigo(s)\n",
            "Tempo total de 0.86s para a simulação com 16 amigo(s)\n",
            "Tempo total de 0.94s para a simulação com 17 amigo(s)\n",
            "Tempo total de 0.95s para a simulação com 18 amigo(s)\n",
            "Tempo total de 0.79s para a simulação com 19 amigo(s)\n",
            "Tempo total de 0.98s para a simulação com 20 amigo(s)\n",
            "Tempo total de 1.14s para a simulação com 21 amigo(s)\n",
            "Tempo total de 0.97s para a simulação com 22 amigo(s)\n",
            "Tempo total de 1.12s para a simulação com 23 amigo(s)\n",
            "Tempo total de 0.97s para a simulação com 24 amigo(s)\n",
            "Tempo total de 1.19s para a simulação com 25 amigo(s)\n",
            "Tempo total de 0.97s para a simulação com 26 amigo(s)\n",
            "Tempo total de 1.01s para a simulação com 27 amigo(s)\n",
            "Tempo total de 1.22s para a simulação com 28 amigo(s)\n",
            "Tempo total de 1.21s para a simulação com 29 amigo(s)\n",
            "Tempo total de 1.32s para a simulação com 30 amigo(s)\n",
            "Tempo total de 1.31s para a simulação com 31 amigo(s)\n",
            "Tempo total de 1.17s para a simulação com 32 amigo(s)\n",
            "Tempo total de 0.91s para a simulação com 33 amigo(s)\n",
            "Tempo total de 1.0s para a simulação com 34 amigo(s)\n",
            "Tempo total de 1.47s para a simulação com 35 amigo(s)\n",
            "Tempo total de 1.6s para a simulação com 36 amigo(s)\n",
            "Tempo total de 1.48s para a simulação com 37 amigo(s)\n",
            "Tempo total de 1.51s para a simulação com 38 amigo(s)\n",
            "Tempo total de 1.59s para a simulação com 39 amigo(s)\n",
            "Tempo total de 1.45s para a simulação com 40 amigo(s)\n",
            "Tempo total de 1.4s para a simulação com 41 amigo(s)\n",
            "Tempo total de 1.77s para a simulação com 42 amigo(s)\n",
            "Tempo total de 1.88s para a simulação com 43 amigo(s)\n",
            "Tempo total de 1.74s para a simulação com 44 amigo(s)\n",
            "Tempo total de 1.69s para a simulação com 45 amigo(s)\n",
            "Tempo total de 1.75s para a simulação com 46 amigo(s)\n",
            "Tempo total de 1.99s para a simulação com 47 amigo(s)\n",
            "Tempo total de 2.04s para a simulação com 48 amigo(s)\n",
            "Tempo total de 1.48s para a simulação com 49 amigo(s)\n",
            "Tempo total de 1.99s para a simulação com 50 amigo(s)\n",
            "Tempo total de 1.84s para a simulação com 51 amigo(s)\n",
            "Tempo total de 2.21s para a simulação com 52 amigo(s)\n",
            "Tempo total de 1.66s para a simulação com 53 amigo(s)\n",
            "Tempo total de 2.32s para a simulação com 54 amigo(s)\n",
            "Tempo total de 2.01s para a simulação com 55 amigo(s)\n",
            "Tempo total de 2.13s para a simulação com 56 amigo(s)\n",
            "Tempo total de 2.1s para a simulação com 57 amigo(s)\n",
            "Tempo total de 1.66s para a simulação com 58 amigo(s)\n",
            "Tempo total de 1.86s para a simulação com 59 amigo(s)\n",
            "Tempo total de 2.49s para a simulação com 60 amigo(s)\n",
            "Tempo total de 2.26s para a simulação com 61 amigo(s)\n",
            "Tempo total de 2.49s para a simulação com 62 amigo(s)\n",
            "Tempo total de 2.51s para a simulação com 63 amigo(s)\n",
            "Tempo total de 2.02s para a simulação com 64 amigo(s)\n",
            "Tempo total de 1.99s para a simulação com 65 amigo(s)\n",
            "Tempo total de 2.07s para a simulação com 66 amigo(s)\n",
            "Tempo total de 2.16s para a simulação com 67 amigo(s)\n",
            "Tempo total de 2.61s para a simulação com 68 amigo(s)\n",
            "Tempo total de 2.33s para a simulação com 69 amigo(s)\n",
            "Tempo total de 2.44s para a simulação com 70 amigo(s)\n",
            "Tempo total de 2.71s para a simulação com 71 amigo(s)\n",
            "Tempo total de 2.19s para a simulação com 72 amigo(s)\n",
            "Tempo total de 2.54s para a simulação com 73 amigo(s)\n",
            "Tempo total de 2.76s para a simulação com 74 amigo(s)\n",
            "Tempo total de 2.99s para a simulação com 75 amigo(s)\n",
            "Tempo total de 2.95s para a simulação com 76 amigo(s)\n",
            "Tempo total de 2.25s para a simulação com 77 amigo(s)\n",
            "Tempo total de 3.02s para a simulação com 78 amigo(s)\n",
            "Tempo total de 2.36s para a simulação com 79 amigo(s)\n",
            "Tempo total de 2.7s para a simulação com 80 amigo(s)\n",
            "Tempo total de 2.85s para a simulação com 81 amigo(s)\n",
            "Tempo total de 2.76s para a simulação com 82 amigo(s)\n",
            "Tempo total de 2.5s para a simulação com 83 amigo(s)\n",
            "Tempo total de 2.63s para a simulação com 84 amigo(s)\n",
            "Tempo total de 3.2s para a simulação com 85 amigo(s)\n",
            "Tempo total de 3.15s para a simulação com 86 amigo(s)\n",
            "Tempo total de 2.91s para a simulação com 87 amigo(s)\n",
            "Tempo total de 3.26s para a simulação com 88 amigo(s)\n",
            "Tempo total de 3.16s para a simulação com 89 amigo(s)\n",
            "Tempo total de 3.21s para a simulação com 90 amigo(s)\n",
            "Tempo total de 3.35s para a simulação com 91 amigo(s)\n",
            "Tempo total de 3.62s para a simulação com 92 amigo(s)\n",
            "Tempo total de 3.37s para a simulação com 93 amigo(s)\n",
            "Tempo total de 3.52s para a simulação com 94 amigo(s)\n",
            "Tempo total de 3.4s para a simulação com 95 amigo(s)\n",
            "Tempo total de 3.36s para a simulação com 96 amigo(s)\n",
            "Tempo total de 3.48s para a simulação com 97 amigo(s)\n",
            "Tempo total de 3.03s para a simulação com 98 amigo(s)\n",
            "Tempo total de 3.53s para a simulação com 99 amigo(s)\n",
            "Tempo total de 3.2s para a simulação com 100 amigo(s)\n"
          ],
          "name": "stdout"
        }
      ]
    },
    {
      "cell_type": "markdown",
      "metadata": {
        "id": "BQ1oiLi8VD9S"
      },
      "source": [
        ""
      ]
    },
    {
      "cell_type": "code",
      "metadata": {
        "colab": {
          "base_uri": "https://localhost:8080/",
          "height": 377
        },
        "id": "juBPxUZ8U18u",
        "outputId": "096ed9a5-4166-427f-83c6-d48f2aea5c24"
      },
      "source": [
        "import math\n",
        "def GraficoCustoAmigos(simulacao):\n",
        "    minimo_possivel = math.ceil(n_album/cromos_por_pacote)*preco_pacote \n",
        "\n",
        "    plt.figure(figsize=(18, 6))\n",
        "    plt.bar(simulacao[0], simulacao[1], width = 0.5, color = 'green')\n",
        "    plt.xticks(simulacao[0])\n",
        "    plt.axhline(y = minimo_possivel, linestyle = 'dashed', color = 'gray')\n",
        "    plt.title('Custo médio aproximado para\\n completar o álbum em função do tamanho\\n do grupo de pessoas trocando figurinhas')\n",
        "    plt.show()\n",
        "\n",
        "GraficoCustoAmigos(sim_amigos)"
      ],
      "execution_count": null,
      "outputs": [
        {
          "output_type": "display_data",
          "data": {
            "image/png": "[encoded data removed]",
            "text/plain": [
              "<Figure size 1296x432 with 1 Axes>"
            ]
          },
          "metadata": {
            "tags": [],
            "needs_background": "light"
          }
        }
      ]
    },
    {
      "cell_type": "markdown",
      "metadata": {
        "id": "etJJlX7YXmFj"
      },
      "source": [
        "#Exercícios Complementares: \n",
        "###Python para Data Science \n",
        "  > Os exercícios abaixo foram pensados para que iniciantes desenvolvam manejo e intimidade programando em python, utilizando os recursos fundamentais da linguagem.\n",
        "\n",
        "  > Os dois primeiros exercícios são mais simples. \n",
        "O exercício 3 já é um pouco mais elaborado e pode ser resolvido de várias formas. \n",
        "E o último exercício é apenas um complemento do projeto desenvolvido em aula sobre o álbum de figurinhas. \n",
        "  Foram feitas mais perguntas para serem respondidas com o experimento.\n",
        "\n",
        "###Exercício 1\n",
        "Considere um balde cuja base possui raio $r_1$ e altura igual ao diâmetro da base. Considere também uma esfera de raio $r_2$ cheia de água. Faça um programa que verifique se o volume da esfera cabe no balde, dados os valores de $r_1$ e $r_2$.\n",
        "\n",
        "###Exercício 2\n",
        "Crie uma função que simule o jogo do jokempô, isto é, dada a entrada de dois jogadores, retorne a indicação de qual deles venceu.\n",
        "\n",
        "###Exercício 3\n",
        "  > Faça um programa que simule uma slot machine. Uma slot machine é uma máquina muito comum em cassinos. \n",
        "  > A pessoa puxa uma alavanca e aparecem na tela 3 símbolos aleatoriamente, de uma lista com diversos deles. Se os símbolos forem iguais, então a pessoa ganha. \n",
        "  > A pessoa entrar com um tanto escolhido de fichas, e joga até que acabe. Quando o programa terminar, uma mensagem resumindo os totais que ela ganhou deve ser exibida."
      ]
    }
  ]
}